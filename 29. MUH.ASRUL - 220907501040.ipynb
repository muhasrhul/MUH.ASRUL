{
 "cells": [
  {
   "cell_type": "markdown",
   "id": "2141d5b9",
   "metadata": {},
   "source": [
    "### MUH.ASRUL _ 220907501040"
   ]
  },
  {
   "cell_type": "markdown",
   "id": "09e5e5a7",
   "metadata": {},
   "source": [
    "#### Import Library"
   ]
  },
  {
   "cell_type": "code",
   "execution_count": 60,
   "id": "7f5d4dd8",
   "metadata": {},
   "outputs": [],
   "source": [
    "import pandas as pd\n",
    "from sklearn.linear_model import LinearRegression\n",
    "from mpl_toolkits.mplot3d import Axes3D\n",
    "import plotly.express as px\n",
    "from statsmodels.stats.diagnostic import het_breuschpagan\n",
    "\n",
    "# UJi Autokorelasi\n",
    "import matplotlib.pyplot as plt\n",
    "from statsmodels.graphics.tsaplots import plot_acf\n",
    "\n",
    "# UJI Heteroskedastisitas \n",
    "import statsmodels.api as sm\n",
    "from statsmodels.stats.diagnostic import het_white\n",
    "\n",
    "# UJI Mulikolonieritas\n",
    "import numpy as np\n",
    "from statsmodels.stats.outliers_influence import variance_inflation_factor\n",
    "\n",
    "# Algortima Regresi dengan paket STATMODEL\n",
    "import statsmodels.api as sm\n",
    "from scipy import stats\n",
    "\n",
    "import warnings\n",
    "warnings.filterwarnings(\"ignore\")"
   ]
  },
  {
   "cell_type": "markdown",
   "id": "f0b9f721",
   "metadata": {},
   "source": [
    "#### Load Data Via URL (Github)"
   ]
  },
  {
   "cell_type": "code",
   "execution_count": 2,
   "id": "ec7c9867",
   "metadata": {},
   "outputs": [
    {
     "data": {
      "text/html": [
       "<div>\n",
       "<style scoped>\n",
       "    .dataframe tbody tr th:only-of-type {\n",
       "        vertical-align: middle;\n",
       "    }\n",
       "\n",
       "    .dataframe tbody tr th {\n",
       "        vertical-align: top;\n",
       "    }\n",
       "\n",
       "    .dataframe thead th {\n",
       "        text-align: right;\n",
       "    }\n",
       "</style>\n",
       "<table border=\"1\" class=\"dataframe\">\n",
       "  <thead>\n",
       "    <tr style=\"text-align: right;\">\n",
       "      <th></th>\n",
       "      <th>X1</th>\n",
       "      <th>X2</th>\n",
       "      <th>Y</th>\n",
       "    </tr>\n",
       "  </thead>\n",
       "  <tbody>\n",
       "    <tr>\n",
       "      <th>0</th>\n",
       "      <td>50</td>\n",
       "      <td>20</td>\n",
       "      <td>60</td>\n",
       "    </tr>\n",
       "    <tr>\n",
       "      <th>1</th>\n",
       "      <td>40</td>\n",
       "      <td>25</td>\n",
       "      <td>55</td>\n",
       "    </tr>\n",
       "    <tr>\n",
       "      <th>2</th>\n",
       "      <td>60</td>\n",
       "      <td>30</td>\n",
       "      <td>65</td>\n",
       "    </tr>\n",
       "    <tr>\n",
       "      <th>3</th>\n",
       "      <td>55</td>\n",
       "      <td>35</td>\n",
       "      <td>70</td>\n",
       "    </tr>\n",
       "    <tr>\n",
       "      <th>4</th>\n",
       "      <td>45</td>\n",
       "      <td>40</td>\n",
       "      <td>62</td>\n",
       "    </tr>\n",
       "    <tr>\n",
       "      <th>5</th>\n",
       "      <td>65</td>\n",
       "      <td>50</td>\n",
       "      <td>75</td>\n",
       "    </tr>\n",
       "    <tr>\n",
       "      <th>6</th>\n",
       "      <td>70</td>\n",
       "      <td>55</td>\n",
       "      <td>80</td>\n",
       "    </tr>\n",
       "    <tr>\n",
       "      <th>7</th>\n",
       "      <td>75</td>\n",
       "      <td>60</td>\n",
       "      <td>85</td>\n",
       "    </tr>\n",
       "    <tr>\n",
       "      <th>8</th>\n",
       "      <td>80</td>\n",
       "      <td>65</td>\n",
       "      <td>90</td>\n",
       "    </tr>\n",
       "    <tr>\n",
       "      <th>9</th>\n",
       "      <td>90</td>\n",
       "      <td>70</td>\n",
       "      <td>95</td>\n",
       "    </tr>\n",
       "    <tr>\n",
       "      <th>10</th>\n",
       "      <td>89</td>\n",
       "      <td>66</td>\n",
       "      <td>77</td>\n",
       "    </tr>\n",
       "    <tr>\n",
       "      <th>11</th>\n",
       "      <td>90</td>\n",
       "      <td>78</td>\n",
       "      <td>87</td>\n",
       "    </tr>\n",
       "    <tr>\n",
       "      <th>12</th>\n",
       "      <td>95</td>\n",
       "      <td>80</td>\n",
       "      <td>90</td>\n",
       "    </tr>\n",
       "    <tr>\n",
       "      <th>13</th>\n",
       "      <td>93</td>\n",
       "      <td>88</td>\n",
       "      <td>86</td>\n",
       "    </tr>\n",
       "    <tr>\n",
       "      <th>14</th>\n",
       "      <td>77</td>\n",
       "      <td>73</td>\n",
       "      <td>79</td>\n",
       "    </tr>\n",
       "    <tr>\n",
       "      <th>15</th>\n",
       "      <td>99</td>\n",
       "      <td>70</td>\n",
       "      <td>96</td>\n",
       "    </tr>\n",
       "  </tbody>\n",
       "</table>\n",
       "</div>"
      ],
      "text/plain": [
       "    X1  X2   Y\n",
       "0   50  20  60\n",
       "1   40  25  55\n",
       "2   60  30  65\n",
       "3   55  35  70\n",
       "4   45  40  62\n",
       "5   65  50  75\n",
       "6   70  55  80\n",
       "7   75  60  85\n",
       "8   80  65  90\n",
       "9   90  70  95\n",
       "10  89  66  77\n",
       "11  90  78  87\n",
       "12  95  80  90\n",
       "13  93  88  86\n",
       "14  77  73  79\n",
       "15  99  70  96"
      ]
     },
     "execution_count": 2,
     "metadata": {},
     "output_type": "execute_result"
    }
   ],
   "source": [
    "data_asrul = pd.read_csv('https://raw.githubusercontent.com/muhasrhul/MUH.ASRUL/main/data_asrul.csv')\n",
    "data_asrul"
   ]
  },
  {
   "cell_type": "markdown",
   "id": "af9a1ac3",
   "metadata": {},
   "source": [
    "#### Memisahkan Variable Independen Dan Variable Dependen"
   ]
  },
  {
   "cell_type": "code",
   "execution_count": 3,
   "id": "278bdc28",
   "metadata": {},
   "outputs": [],
   "source": [
    "# Variable Prediktor\n",
    "X = data_asrul[['X1','X2']]\n",
    "\n",
    "# Variable Target\n",
    "y = data_asrul['Y']"
   ]
  },
  {
   "cell_type": "markdown",
   "id": "ee9f114e",
   "metadata": {},
   "source": [
    "#### Membuat Model Regression"
   ]
  },
  {
   "cell_type": "code",
   "execution_count": 4,
   "id": "472467e0",
   "metadata": {},
   "outputs": [
    {
     "data": {
      "text/plain": [
       "LinearRegression()"
      ]
     },
     "execution_count": 4,
     "metadata": {},
     "output_type": "execute_result"
    }
   ],
   "source": [
    "regressi = LinearRegression()\n",
    "regressi.fit(X,y)"
   ]
  },
  {
   "cell_type": "markdown",
   "id": "3e8f1877",
   "metadata": {},
   "source": [
    "#### Menampilkan koefisien dan intercept dari model regressi yang kita buat sebelumnya"
   ]
  },
  {
   "cell_type": "code",
   "execution_count": 6,
   "id": "e6169ea8",
   "metadata": {},
   "outputs": [
    {
     "name": "stdout",
     "output_type": "stream",
     "text": [
      "Koefisien X1: 0.5297913307401668\n",
      "Koefisien X2: 0.08976829824709662\n",
      "Intercept: 34.332153695510115\n"
     ]
    }
   ],
   "source": [
    "coef_x1 = regressi.coef_[0]\n",
    "coef_x2 = regressi.coef_[1]\n",
    "intercept = regressi.intercept_\n",
    "\n",
    "print(f'Koefisien X1: {coef_x1}')\n",
    "print(f'Koefisien X2: {coef_x2}')\n",
    "print(f'Intercept: {intercept}')"
   ]
  },
  {
   "cell_type": "markdown",
   "id": "179322e0",
   "metadata": {},
   "source": [
    "#### Menampilkan tabel Summary"
   ]
  },
  {
   "cell_type": "code",
   "execution_count": 15,
   "id": "3b4646c2",
   "metadata": {},
   "outputs": [
    {
     "name": "stdout",
     "output_type": "stream",
     "text": [
      "                            OLS Regression Results                            \n",
      "==============================================================================\n",
      "Dep. Variable:                      Y   R-squared:                       0.857\n",
      "Model:                            OLS   Adj. R-squared:                  0.835\n",
      "Method:                 Least Squares   F-statistic:                     39.02\n",
      "Date:                Fri, 13 Oct 2023   Prob (F-statistic):           3.20e-06\n",
      "Time:                        07:56:48   Log-Likelihood:                -47.385\n",
      "No. Observations:                  16   AIC:                             100.8\n",
      "Df Residuals:                      13   BIC:                             103.1\n",
      "Df Model:                           2                                         \n",
      "Covariance Type:            nonrobust                                         \n",
      "==============================================================================\n",
      "                 coef    std err          t      P>|t|      [0.025      0.975]\n",
      "------------------------------------------------------------------------------\n",
      "const         34.3322      6.043      5.681      0.000      21.277      47.388\n",
      "X1             0.5298      0.178      2.981      0.011       0.146       0.914\n",
      "X2             0.0898      0.161      0.558      0.586      -0.258       0.437\n",
      "==============================================================================\n",
      "Omnibus:                        0.287   Durbin-Watson:                   1.408\n",
      "Prob(Omnibus):                  0.866   Jarque-Bera (JB):                0.313\n",
      "Skew:                          -0.256   Prob(JB):                        0.855\n",
      "Kurtosis:                       2.546   Cond. No.                         449.\n",
      "==============================================================================\n",
      "\n",
      "Notes:\n",
      "[1] Standard Errors assume that the covariance matrix of the errors is correctly specified.\n"
     ]
    }
   ],
   "source": [
    "# Menambahkan kolom konstanta (intercept)\n",
    "data_asrul = sm.add_constant(data_asrul)\n",
    "# Membentuk model regresi\n",
    "model = sm.OLS(data_asrul['Y'], data_asrul[['const', 'X1', 'X2']])\n",
    "# Melakukan fitting model\n",
    "results = model.fit()\n",
    "# Menampilkan persamaan regresi\n",
    "print(results.summary())"
   ]
  },
  {
   "cell_type": "markdown",
   "id": "5afa2c03",
   "metadata": {},
   "source": [
    "#### Menampilkan Visual Menggunakan Scatter Axes3D"
   ]
  },
  {
   "cell_type": "code",
   "execution_count": 33,
   "id": "01fb6ae2",
   "metadata": {},
   "outputs": [
    {
     "data": {
      "image/png": "[encoded data removed]",
      "text/plain": [
       "<Figure size 640x480 with 1 Axes>"
      ]
     },
     "metadata": {},
     "output_type": "display_data"
    }
   ],
   "source": [
    "fig = plt.figure()\n",
    "ax = fig.add_subplot(111, projection='3d')\n",
    "\n",
    "ax.scatter(data_asrul['X1'], data_asrul['X2'], data_asrul['Y'], c='r', marker='o')\n",
    "plt.title('Visualisasi Scatter Axes3D')\n",
    "ax.set_xlabel('X1')\n",
    "ax.set_ylabel('X2')\n",
    "ax.set_zlabel('Y')\n",
    "\n",
    "plt.savefig('Visualisasi Scatter Axes3D')\n",
    "plt.show()"
   ]
  },
  {
   "cell_type": "markdown",
   "id": "a136b9a7",
   "metadata": {},
   "source": [
    "#### Prediksi hasil regresi untuk plot permukaan"
   ]
  },
  {
   "cell_type": "code",
   "execution_count": 25,
   "id": "247cf740",
   "metadata": {},
   "outputs": [
    {
     "data": {
      "image/png": "[encoded data removed]",
      "text/plain": [
       "<Figure size 640x480 with 1 Axes>"
      ]
     },
     "metadata": {},
     "output_type": "display_data"
    }
   ],
   "source": [
    "x1_range = np.linspace(data_asrul['X1'].min(), data_asrul['X1'].max(), 20)\n",
    "x2_range = np.linspace(data_asrul['X2'].min(), data_asrul['X2'].max(), 20)\n",
    "x1_mesh, x2_mesh = np.meshgrid(x1_range, x2_range)\n",
    "\n",
    "data_to_predict = np.column_stack((x1_mesh.ravel(), x2_mesh.ravel()))\n",
    "y_pred = regressi.predict(data_to_predict)\n",
    "y_pred = y_pred.reshape(x1_mesh.shape)\n",
    "\n",
    "\n",
    "fig = plt.figure()\n",
    "ax = fig.add_subplot(111,projection='3d')\n",
    "ax.plot_surface(x1_mesh, x2_mesh, y_pred, alpha=0.5)\n",
    "\n",
    "plt.title('Visualisasi Regresi untuk plot permukaan')\n",
    "ax.set_xlabel('X1')\n",
    "ax.set_ylabel('X2')\n",
    "ax.set_zlabel('Y')\n",
    "\n",
    "plt.savefig('Visualisasi Regresi untuk plot permukaan')\n",
    "plt.show()"
   ]
  },
  {
   "cell_type": "code",
   "execution_count": 27,
   "id": "361ce1ab",
   "metadata": {},
   "outputs": [
    {
     "data": {
      "image/png": "[encoded data removed]",
      "text/plain": [
       "<Figure size 640x480 with 1 Axes>"
      ]
     },
     "metadata": {},
     "output_type": "display_data"
    }
   ],
   "source": [
    "x1_range = np.linspace(data_asrul['X1'].min(), data_asrul['X1'].max(), 20)\n",
    "x2_range = np.linspace(data_asrul['X2'].min(), data_asrul['X2'].max(), 20)\n",
    "x1_mesh, x2_mesh = np.meshgrid(x1_range, x2_range)\n",
    "\n",
    "data_to_predict = np.column_stack((x1_mesh.ravel(), x2_mesh.ravel()))\n",
    "y_pred = regressi.predict(data_to_predict)\n",
    "y_pred = y_pred.reshape(x1_mesh.shape)\n",
    "\n",
    "\n",
    "fig = plt.figure()\n",
    "ax = fig.add_subplot(111,projection='3d')\n",
    "ax.scatter(data_asrul['X1'], data_asrul['X2'], data_asrul['Y'], c='r', marker='o')\n",
    "ax.plot_surface(x1_mesh, x2_mesh, y_pred, alpha=0.5)\n",
    "\n",
    "plt.title('Visualisasi Axes3D')\n",
    "ax.set_xlabel('X1')\n",
    "ax.set_ylabel('X2')\n",
    "ax.set_zlabel('Y')\n",
    "\n",
    "plt.savefig('Visualisasi Axes3D')\n",
    "plt.show()"
   ]
  },
  {
   "cell_type": "markdown",
   "id": "d89a19d0",
   "metadata": {},
   "source": [
    "#### Scatter plot untuk melihat hubungan antara X1, X2, dan Y"
   ]
  },
  {
   "cell_type": "code",
   "execution_count": 50,
   "id": "57f36112",
   "metadata": {},
   "outputs": [
    {
     "data": {
      "application/vnd.plotly.v1+json": {
       "config": {
        "plotlyServerURL": "https://plot.ly"
       },
       "data": [
        {
         "marker": {
          "size": 5
         },
         "mode": "markers",
         "name": "Data Points",
         "type": "scatter3d",
         "x": [
          50,
          40,
          60,
          55,
          45,
          65,
          70,
          75,
          80,
          90,
          89,
          90,
          95,
          93,
          77,
          99
         ],
         "y": [
          20,
          25,
          30,
          35,
          40,
          50,
          55,
          60,
          65,
          70,
          66,
          78,
          80,
          88,
          73,
          70
         ],
         "z": [
          60,
          55,
          65,
          70,
          62,
          75,
          80,
          85,
          90,
          95,
          77,
          87,
          90,
          86,
          79,
          96
         ]
        },
        {
         "colorscale": [
          [
           0,
           "#440154"
          ],
          [
           0.1111111111111111,
           "#482878"
          ],
          [
           0.2222222222222222,
           "#3e4989"
          ],
          [
           0.3333333333333333,
           "#31688e"
          ],
          [
           0.4444444444444444,
           "#26828e"
          ],
          [
           0.5555555555555556,
           "#1f9e89"
          ],
          [
           0.6666666666666666,
           "#35b779"
          ],
          [
           0.7777777777777778,
           "#6ece58"
          ],
          [
           0.8888888888888888,
           "#b5de2b"
          ],
          [
           1,
           "#fde725"
          ]
         ],
         "name": "Regression Plane",
         "opacity": 0.8,
         "type": "surface",
         "x": [
          [
           50,
           40,
           60,
           55,
           45,
           65,
           70,
           75,
           80,
           90,
           89,
           90,
           95,
           93,
           77,
           99
          ],
          [
           50,
           40,
           60,
           55,
           45,
           65,
           70,
           75,
           80,
           90,
           89,
           90,
           95,
           93,
           77,
           99
          ],
          [
           50,
           40,
           60,
           55,
           45,
           65,
           70,
           75,
           80,
           90,
           89,
           90,
           95,
           93,
           77,
           99
          ],
          [
           50,
           40,
           60,
           55,
           45,
           65,
           70,
           75,
           80,
           90,
           89,
           90,
           95,
           93,
           77,
           99
          ],
          [
           50,
           40,
           60,
           55,
           45,
           65,
           70,
           75,
           80,
           90,
           89,
           90,
           95,
           93,
           77,
           99
          ],
          [
           50,
           40,
           60,
           55,
           45,
           65,
           70,
           75,
           80,
           90,
           89,
           90,
           95,
           93,
           77,
           99
          ],
          [
           50,
           40,
           60,
           55,
           45,
           65,
           70,
           75,
           80,
           90,
           89,
           90,
           95,
           93,
           77,
           99
          ],
          [
           50,
           40,
           60,
           55,
           45,
           65,
           70,
           75,
           80,
           90,
           89,
           90,
           95,
           93,
           77,
           99
          ],
          [
           50,
           40,
           60,
           55,
           45,
           65,
           70,
           75,
           80,
           90,
           89,
           90,
           95,
           93,
           77,
           99
          ],
          [
           50,
           40,
           60,
           55,
           45,
           65,
           70,
           75,
           80,
           90,
           89,
           90,
           95,
           93,
           77,
           99
          ],
          [
           50,
           40,
           60,
           55,
           45,
           65,
           70,
           75,
           80,
           90,
           89,
           90,
           95,
           93,
           77,
           99
          ],
          [
           50,
           40,
           60,
           55,
           45,
           65,
           70,
           75,
           80,
           90,
           89,
           90,
           95,
           93,
           77,
           99
          ],
          [
           50,
           40,
           60,
           55,
           45,
           65,
           70,
           75,
           80,
           90,
           89,
           90,
           95,
           93,
           77,
           99
          ],
          [
           50,
           40,
           60,
           55,
           45,
           65,
           70,
           75,
           80,
           90,
           89,
           90,
           95,
           93,
           77,
           99
          ],
          [
           50,
           40,
           60,
           55,
           45,
           65,
           70,
           75,
           80,
           90,
           89,
           90,
           95,
           93,
           77,
           99
          ],
          [
           50,
           40,
           60,
           55,
           45,
           65,
           70,
           75,
           80,
           90,
           89,
           90,
           95,
           93,
           77,
           99
          ]
         ],
         "y": [
          [
           20,
           20,
           20,
           20,
           20,
           20,
           20,
           20,
           20,
           20,
           20,
           20,
           20,
           20,
           20,
           20
          ],
          [
           25,
           25,
           25,
           25,
           25,
           25,
           25,
           25,
           25,
           25,
           25,
           25,
           25,
           25,
           25,
           25
          ],
          [
           30,
           30,
           30,
           30,
           30,
           30,
           30,
           30,
           30,
           30,
           30,
           30,
           30,
           30,
           30,
           30
          ],
          [
           35,
           35,
           35,
           35,
           35,
           35,
           35,
           35,
           35,
           35,
           35,
           35,
           35,
           35,
           35,
           35
          ],
          [
           40,
           40,
           40,
           40,
           40,
           40,
           40,
           40,
           40,
           40,
           40,
           40,
           40,
           40,
           40,
           40
          ],
          [
           50,
           50,
           50,
           50,
           50,
           50,
           50,
           50,
           50,
           50,
           50,
           50,
           50,
           50,
           50,
           50
          ],
          [
           55,
           55,
           55,
           55,
           55,
           55,
           55,
           55,
           55,
           55,
           55,
           55,
           55,
           55,
           55,
           55
          ],
          [
           60,
           60,
           60,
           60,
           60,
           60,
           60,
           60,
           60,
           60,
           60,
           60,
           60,
           60,
           60,
           60
          ],
          [
           65,
           65,
           65,
           65,
           65,
           65,
           65,
           65,
           65,
           65,
           65,
           65,
           65,
           65,
           65,
           65
          ],
          [
           70,
           70,
           70,
           70,
           70,
           70,
           70,
           70,
           70,
           70,
           70,
           70,
           70,
           70,
           70,
           70
          ],
          [
           66,
           66,
           66,
           66,
           66,
           66,
           66,
           66,
           66,
           66,
           66,
           66,
           66,
           66,
           66,
           66
          ],
          [
           78,
           78,
           78,
           78,
           78,
           78,
           78,
           78,
           78,
           78,
           78,
           78,
           78,
           78,
           78,
           78
          ],
          [
           80,
           80,
           80,
           80,
           80,
           80,
           80,
           80,
           80,
           80,
           80,
           80,
           80,
           80,
           80,
           80
          ],
          [
           88,
           88,
           88,
           88,
           88,
           88,
           88,
           88,
           88,
           88,
           88,
           88,
           88,
           88,
           88,
           88
          ],
          [
           73,
           73,
           73,
           73,
           73,
           73,
           73,
           73,
           73,
           73,
           73,
           73,
           73,
           73,
           73,
           73
          ],
          [
           70,
           70,
           70,
           70,
           70,
           70,
           70,
           70,
           70,
           70,
           70,
           70,
           70,
           70,
           70,
           70
          ]
         ],
         "z": [
          [
           62.617086197460395,
           57.319172890058724,
           67.91499950486208,
           65.26604285116123,
           59.96812954375956,
           70.56395615856292,
           73.21291281226375,
           75.8618694659646,
           78.51082611966544,
           83.80873942706711,
           83.27894809632694,
           83.80873942706711,
           86.45769608076795,
           85.39811341928761,
           76.92145212744494,
           88.57686140372861
          ],
          [
           63.06592768869587,
           57.7680143812942,
           68.36384099609757,
           65.71488434239672,
           60.416971034995036,
           71.01279764979839,
           73.66175430349924,
           76.31071095720009,
           78.95966761090091,
           84.25758091830258,
           83.72778958756243,
           84.25758091830258,
           86.90653757200343,
           85.8469549105231,
           77.37029361868042,
           89.0257028949641
          ],
          [
           63.51476917993135,
           58.21685587252968,
           68.81268248733303,
           66.1637258336322,
           60.86581252623051,
           71.46163914103387,
           74.1105957947347,
           76.75955244843556,
           79.40850910213639,
           84.70642240953806,
           84.1766310787979,
           84.70642240953806,
           87.3553790632389,
           86.29579640175857,
           77.81913510991589,
           89.47454438619957
          ],
          [
           63.96361067116683,
           58.66569736376516,
           69.26152397856852,
           66.61256732486767,
           61.314654017466,
           71.91048063226935,
           74.55943728597019,
           77.20839393967104,
           79.85735059337188,
           85.15526390077355,
           84.62547257003338,
           85.15526390077355,
           87.80422055447438,
           86.74463789299405,
           78.26797660115137,
           89.92338587743505
          ],
          [
           64.41245216240232,
           59.11453885500064,
           69.710365469804,
           67.06140881610315,
           61.763495508701475,
           72.35932212350484,
           75.00827877720567,
           77.65723543090652,
           80.30619208460736,
           85.60410539200903,
           85.07431406126886,
           85.60410539200903,
           88.25306204570987,
           87.19347938422953,
           78.71681809238686,
           90.37222736867054
          ],
          [
           65.31013514487327,
           60.0122218374716,
           70.60804845227496,
           67.95909179857412,
           62.661178491172436,
           73.2570051059758,
           75.90596175967663,
           78.55491841337748,
           81.20387506707831,
           86.50178837447999,
           85.97199704373982,
           86.50178837447999,
           89.15074502818082,
           88.09116236670049,
           79.61450107485781,
           91.26991035114149
          ],
          [
           65.75897663610876,
           60.461063328707084,
           71.05688994351044,
           68.40793328980959,
           63.11001998240792,
           73.70584659721128,
           76.35480325091211,
           79.00375990461296,
           81.6527165583138,
           86.95062986571547,
           86.4208385349753,
           86.95062986571547,
           89.5995865194163,
           88.54000385793597,
           80.0633425660933,
           91.71875184237697
          ],
          [
           66.20781812734423,
           60.90990481994256,
           71.50573143474591,
           68.85677478104508,
           63.5588614736434,
           74.15468808844675,
           76.80364474214758,
           79.45260139584843,
           82.10155804954927,
           87.39947135695094,
           86.86968002621077,
           87.39947135695094,
           90.04842801065178,
           88.98884534917144,
           80.51218405732877,
           92.16759333361244
          ],
          [
           66.65665961857971,
           61.35874631117804,
           71.9545729259814,
           69.30561627228056,
           64.00770296487887,
           74.60352957968223,
           77.25248623338307,
           79.90144288708392,
           82.55039954078475,
           87.84831284818642,
           87.31852151744626,
           87.84831284818642,
           90.49726950188726,
           89.43768684040693,
           80.96102554856425,
           92.61643482484793
          ],
          [
           67.1055011098152,
           61.80758780241352,
           72.40341441721688,
           69.75445776351603,
           64.45654445611436,
           75.05237107091772,
           77.70132772461855,
           80.3502843783194,
           82.99924103202024,
           88.29715433942191,
           87.76736300868174,
           88.29715433942191,
           90.94611099312274,
           89.88652833164241,
           81.40986703979974,
           93.06527631608341
          ],
          [
           66.7464279168268,
           61.44851460942513,
           72.04434122422849,
           69.39538457052765,
           64.09747126312597,
           74.69329787792933,
           77.34225453163016,
           79.99121118533101,
           82.64016783903185,
           87.93808114643352,
           87.40828981569335,
           87.93808114643352,
           90.58703780013435,
           89.52745513865402,
           81.05079384681135,
           92.70620312309502
          ],
          [
           67.82364749579196,
           62.52573418839029,
           73.12156080319365,
           70.47260414949281,
           65.17469084209112,
           75.77051745689448,
           78.41947411059532,
           81.06843076429617,
           83.717387417997,
           89.01530072539867,
           88.48550939465851,
           89.01530072539867,
           91.66425737909951,
           90.60467471761918,
           82.1280134257765,
           93.78342270206018
          ],
          [
           68.00318409228615,
           62.705270784884476,
           73.30109739968783,
           70.652140745987,
           65.35422743858531,
           75.95005405338867,
           78.5990107070895,
           81.24796736079035,
           83.89692401449119,
           89.19483732189286,
           88.6650459911527,
           89.19483732189286,
           91.8437939755937,
           90.78421131411336,
           82.30755002227069,
           93.96295929855437
          ],
          [
           68.72133047826291,
           63.42341717086125,
           74.0192437856646,
           71.37028713196376,
           66.07237382456208,
           76.66820043936544,
           79.31715709306627,
           81.96611374676712,
           84.61507040046796,
           89.91298370786963,
           89.38319237712946,
           89.91298370786963,
           92.56194036157046,
           91.50235770009013,
           83.02569640824746,
           94.68110568453113
          ],
          [
           67.37480600455648,
           62.076892697154804,
           72.67271931195816,
           70.02376265825733,
           64.72584935085564,
           75.321675965659,
           77.97063261935983,
           80.61958927306068,
           83.26854592676152,
           88.56645923416319,
           88.03666790342302,
           88.56645923416319,
           91.21541588786403,
           90.15583322638369,
           81.67917193454102,
           93.3345812108247
          ],
          [
           67.1055011098152,
           61.80758780241352,
           72.40341441721688,
           69.75445776351603,
           64.45654445611436,
           75.05237107091772,
           77.70132772461855,
           80.3502843783194,
           82.99924103202024,
           88.29715433942191,
           87.76736300868174,
           88.29715433942191,
           90.94611099312274,
           89.88652833164241,
           81.40986703979974,
           93.06527631608341
          ]
         ]
        }
       ],
       "layout": {
        "scene": {
         "xaxis": {
          "title": {
           "text": "X1"
          }
         },
         "yaxis": {
          "title": {
           "text": "X2"
          }
         },
         "zaxis": {
          "title": {
           "text": "Y"
          }
         }
        },
        "template": {
         "data": {
          "bar": [
           {
            "error_x": {
             "color": "#2a3f5f"
            },
            "error_y": {
             "color": "#2a3f5f"
            },
            "marker": {
             "line": {
              "color": "#E5ECF6",
              "width": 0.5
             },
             "pattern": {
              "fillmode": "overlay",
              "size": 10,
              "solidity": 0.2
             }
            },
            "type": "bar"
           }
          ],
          "barpolar": [
           {
            "marker": {
             "line": {
              "color": "#E5ECF6",
              "width": 0.5
             },
             "pattern": {
              "fillmode": "overlay",
              "size": 10,
              "solidity": 0.2
             }
            },
            "type": "barpolar"
           }
          ],
          "carpet": [
           {
            "aaxis": {
             "endlinecolor": "#2a3f5f",
             "gridcolor": "white",
             "linecolor": "white",
             "minorgridcolor": "white",
             "startlinecolor": "#2a3f5f"
            },
            "baxis": {
             "endlinecolor": "#2a3f5f",
             "gridcolor": "white",
             "linecolor": "white",
             "minorgridcolor": "white",
             "startlinecolor": "#2a3f5f"
            },
            "type": "carpet"
           }
          ],
          "choropleth": [
           {
            "colorbar": {
             "outlinewidth": 0,
             "ticks": ""
            },
            "type": "choropleth"
           }
          ],
          "contour": [
           {
            "colorbar": {
             "outlinewidth": 0,
             "ticks": ""
            },
            "colorscale": [
             [
              0,
              "#0d0887"
             ],
             [
              0.1111111111111111,
              "#46039f"
             ],
             [
              0.2222222222222222,
              "#7201a8"
             ],
             [
              0.3333333333333333,
              "#9c179e"
             ],
             [
              0.4444444444444444,
              "#bd3786"
             ],
             [
              0.5555555555555556,
              "#d8576b"
             ],
             [
              0.6666666666666666,
              "#ed7953"
             ],
             [
              0.7777777777777778,
              "#fb9f3a"
             ],
             [
              0.8888888888888888,
              "#fdca26"
             ],
             [
              1,
              "#f0f921"
             ]
            ],
            "type": "contour"
           }
          ],
          "contourcarpet": [
           {
            "colorbar": {
             "outlinewidth": 0,
             "ticks": ""
            },
            "type": "contourcarpet"
           }
          ],
          "heatmap": [
           {
            "colorbar": {
             "outlinewidth": 0,
             "ticks": ""
            },
            "colorscale": [
             [
              0,
              "#0d0887"
             ],
             [
              0.1111111111111111,
              "#46039f"
             ],
             [
              0.2222222222222222,
              "#7201a8"
             ],
             [
              0.3333333333333333,
              "#9c179e"
             ],
             [
              0.4444444444444444,
              "#bd3786"
             ],
             [
              0.5555555555555556,
              "#d8576b"
             ],
             [
              0.6666666666666666,
              "#ed7953"
             ],
             [
              0.7777777777777778,
              "#fb9f3a"
             ],
             [
              0.8888888888888888,
              "#fdca26"
             ],
             [
              1,
              "#f0f921"
             ]
            ],
            "type": "heatmap"
           }
          ],
          "heatmapgl": [
           {
            "colorbar": {
             "outlinewidth": 0,
             "ticks": ""
            },
            "colorscale": [
             [
              0,
              "#0d0887"
             ],
             [
              0.1111111111111111,
              "#46039f"
             ],
             [
              0.2222222222222222,
              "#7201a8"
             ],
             [
              0.3333333333333333,
              "#9c179e"
             ],
             [
              0.4444444444444444,
              "#bd3786"
             ],
             [
              0.5555555555555556,
              "#d8576b"
             ],
             [
              0.6666666666666666,
              "#ed7953"
             ],
             [
              0.7777777777777778,
              "#fb9f3a"
             ],
             [
              0.8888888888888888,
              "#fdca26"
             ],
             [
              1,
              "#f0f921"
             ]
            ],
            "type": "heatmapgl"
           }
          ],
          "histogram": [
           {
            "marker": {
             "pattern": {
              "fillmode": "overlay",
              "size": 10,
              "solidity": 0.2
             }
            },
            "type": "histogram"
           }
          ],
          "histogram2d": [
           {
            "colorbar": {
             "outlinewidth": 0,
             "ticks": ""
            },
            "colorscale": [
             [
              0,
              "#0d0887"
             ],
             [
              0.1111111111111111,
              "#46039f"
             ],
             [
              0.2222222222222222,
              "#7201a8"
             ],
             [
              0.3333333333333333,
              "#9c179e"
             ],
             [
              0.4444444444444444,
              "#bd3786"
             ],
             [
              0.5555555555555556,
              "#d8576b"
             ],
             [
              0.6666666666666666,
              "#ed7953"
             ],
             [
              0.7777777777777778,
              "#fb9f3a"
             ],
             [
              0.8888888888888888,
              "#fdca26"
             ],
             [
              1,
              "#f0f921"
             ]
            ],
            "type": "histogram2d"
           }
          ],
          "histogram2dcontour": [
           {
            "colorbar": {
             "outlinewidth": 0,
             "ticks": ""
            },
            "colorscale": [
             [
              0,
              "#0d0887"
             ],
             [
              0.1111111111111111,
              "#46039f"
             ],
             [
              0.2222222222222222,
              "#7201a8"
             ],
             [
              0.3333333333333333,
              "#9c179e"
             ],
             [
              0.4444444444444444,
              "#bd3786"
             ],
             [
              0.5555555555555556,
              "#d8576b"
             ],
             [
              0.6666666666666666,
              "#ed7953"
             ],
             [
              0.7777777777777778,
              "#fb9f3a"
             ],
             [
              0.8888888888888888,
              "#fdca26"
             ],
             [
              1,
              "#f0f921"
             ]
            ],
            "type": "histogram2dcontour"
           }
          ],
          "mesh3d": [
           {
            "colorbar": {
             "outlinewidth": 0,
             "ticks": ""
            },
            "type": "mesh3d"
           }
          ],
          "parcoords": [
           {
            "line": {
             "colorbar": {
              "outlinewidth": 0,
              "ticks": ""
             }
            },
            "type": "parcoords"
           }
          ],
          "pie": [
           {
            "automargin": true,
            "type": "pie"
           }
          ],
          "scatter": [
           {
            "fillpattern": {
             "fillmode": "overlay",
             "size": 10,
             "solidity": 0.2
            },
            "type": "scatter"
           }
          ],
          "scatter3d": [
           {
            "line": {
             "colorbar": {
              "outlinewidth": 0,
              "ticks": ""
             }
            },
            "marker": {
             "colorbar": {
              "outlinewidth": 0,
              "ticks": ""
             }
            },
            "type": "scatter3d"
           }
          ],
          "scattercarpet": [
           {
            "marker": {
             "colorbar": {
              "outlinewidth": 0,
              "ticks": ""
             }
            },
            "type": "scattercarpet"
           }
          ],
          "scattergeo": [
           {
            "marker": {
             "colorbar": {
              "outlinewidth": 0,
              "ticks": ""
             }
            },
            "type": "scattergeo"
           }
          ],
          "scattergl": [
           {
            "marker": {
             "colorbar": {
              "outlinewidth": 0,
              "ticks": ""
             }
            },
            "type": "scattergl"
           }
          ],
          "scattermapbox": [
           {
            "marker": {
             "colorbar": {
              "outlinewidth": 0,
              "ticks": ""
             }
            },
            "type": "scattermapbox"
           }
          ],
          "scatterpolar": [
           {
            "marker": {
             "colorbar": {
              "outlinewidth": 0,
              "ticks": ""
             }
            },
            "type": "scatterpolar"
           }
          ],
          "scatterpolargl": [
           {
            "marker": {
             "colorbar": {
              "outlinewidth": 0,
              "ticks": ""
             }
            },
            "type": "scatterpolargl"
           }
          ],
          "scatterternary": [
           {
            "marker": {
             "colorbar": {
              "outlinewidth": 0,
              "ticks": ""
             }
            },
            "type": "scatterternary"
           }
          ],
          "surface": [
           {
            "colorbar": {
             "outlinewidth": 0,
             "ticks": ""
            },
            "colorscale": [
             [
              0,
              "#0d0887"
             ],
             [
              0.1111111111111111,
              "#46039f"
             ],
             [
              0.2222222222222222,
              "#7201a8"
             ],
             [
              0.3333333333333333,
              "#9c179e"
             ],
             [
              0.4444444444444444,
              "#bd3786"
             ],
             [
              0.5555555555555556,
              "#d8576b"
             ],
             [
              0.6666666666666666,
              "#ed7953"
             ],
             [
              0.7777777777777778,
              "#fb9f3a"
             ],
             [
              0.8888888888888888,
              "#fdca26"
             ],
             [
              1,
              "#f0f921"
             ]
            ],
            "type": "surface"
           }
          ],
          "table": [
           {
            "cells": {
             "fill": {
              "color": "#EBF0F8"
             },
             "line": {
              "color": "white"
             }
            },
            "header": {
             "fill": {
              "color": "#C8D4E3"
             },
             "line": {
              "color": "white"
             }
            },
            "type": "table"
           }
          ]
         },
         "layout": {
          "annotationdefaults": {
           "arrowcolor": "#2a3f5f",
           "arrowhead": 0,
           "arrowwidth": 1
          },
          "autotypenumbers": "strict",
          "coloraxis": {
           "colorbar": {
            "outlinewidth": 0,
            "ticks": ""
           }
          },
          "colorscale": {
           "diverging": [
            [
             0,
             "#8e0152"
            ],
            [
             0.1,
             "#c51b7d"
            ],
            [
             0.2,
             "#de77ae"
            ],
            [
             0.3,
             "#f1b6da"
            ],
            [
             0.4,
             "#fde0ef"
            ],
            [
             0.5,
             "#f7f7f7"
            ],
            [
             0.6,
             "#e6f5d0"
            ],
            [
             0.7,
             "#b8e186"
            ],
            [
             0.8,
             "#7fbc41"
            ],
            [
             0.9,
             "#4d9221"
            ],
            [
             1,
             "#276419"
            ]
           ],
           "sequential": [
            [
             0,
             "#0d0887"
            ],
            [
             0.1111111111111111,
             "#46039f"
            ],
            [
             0.2222222222222222,
             "#7201a8"
            ],
            [
             0.3333333333333333,
             "#9c179e"
            ],
            [
             0.4444444444444444,
             "#bd3786"
            ],
            [
             0.5555555555555556,
             "#d8576b"
            ],
            [
             0.6666666666666666,
             "#ed7953"
            ],
            [
             0.7777777777777778,
             "#fb9f3a"
            ],
            [
             0.8888888888888888,
             "#fdca26"
            ],
            [
             1,
             "#f0f921"
            ]
           ],
           "sequentialminus": [
            [
             0,
             "#0d0887"
            ],
            [
             0.1111111111111111,
             "#46039f"
            ],
            [
             0.2222222222222222,
             "#7201a8"
            ],
            [
             0.3333333333333333,
             "#9c179e"
            ],
            [
             0.4444444444444444,
             "#bd3786"
            ],
            [
             0.5555555555555556,
             "#d8576b"
            ],
            [
             0.6666666666666666,
             "#ed7953"
            ],
            [
             0.7777777777777778,
             "#fb9f3a"
            ],
            [
             0.8888888888888888,
             "#fdca26"
            ],
            [
             1,
             "#f0f921"
            ]
           ]
          },
          "colorway": [
           "#636efa",
           "#EF553B",
           "#00cc96",
           "#ab63fa",
           "#FFA15A",
           "#19d3f3",
           "#FF6692",
           "#B6E880",
           "#FF97FF",
           "#FECB52"
          ],
          "font": {
           "color": "#2a3f5f"
          },
          "geo": {
           "bgcolor": "white",
           "lakecolor": "white",
           "landcolor": "#E5ECF6",
           "showlakes": true,
           "showland": true,
           "subunitcolor": "white"
          },
          "hoverlabel": {
           "align": "left"
          },
          "hovermode": "closest",
          "mapbox": {
           "style": "light"
          },
          "paper_bgcolor": "white",
          "plot_bgcolor": "#E5ECF6",
          "polar": {
           "angularaxis": {
            "gridcolor": "white",
            "linecolor": "white",
            "ticks": ""
           },
           "bgcolor": "#E5ECF6",
           "radialaxis": {
            "gridcolor": "white",
            "linecolor": "white",
            "ticks": ""
           }
          },
          "scene": {
           "xaxis": {
            "backgroundcolor": "#E5ECF6",
            "gridcolor": "white",
            "gridwidth": 2,
            "linecolor": "white",
            "showbackground": true,
            "ticks": "",
            "zerolinecolor": "white"
           },
           "yaxis": {
            "backgroundcolor": "#E5ECF6",
            "gridcolor": "white",
            "gridwidth": 2,
            "linecolor": "white",
            "showbackground": true,
            "ticks": "",
            "zerolinecolor": "white"
           },
           "zaxis": {
            "backgroundcolor": "#E5ECF6",
            "gridcolor": "white",
            "gridwidth": 2,
            "linecolor": "white",
            "showbackground": true,
            "ticks": "",
            "zerolinecolor": "white"
           }
          },
          "shapedefaults": {
           "line": {
            "color": "#2a3f5f"
           }
          },
          "ternary": {
           "aaxis": {
            "gridcolor": "white",
            "linecolor": "white",
            "ticks": ""
           },
           "baxis": {
            "gridcolor": "white",
            "linecolor": "white",
            "ticks": ""
           },
           "bgcolor": "#E5ECF6",
           "caxis": {
            "gridcolor": "white",
            "linecolor": "white",
            "ticks": ""
           }
          },
          "title": {
           "x": 0.05
          },
          "xaxis": {
           "automargin": true,
           "gridcolor": "white",
           "linecolor": "white",
           "ticks": "",
           "title": {
            "standoff": 15
           },
           "zerolinecolor": "white",
           "zerolinewidth": 2
          },
          "yaxis": {
           "automargin": true,
           "gridcolor": "white",
           "linecolor": "white",
           "ticks": "",
           "title": {
            "standoff": 15
           },
           "zerolinecolor": "white",
           "zerolinewidth": 2
          }
         }
        },
        "title": {
         "text": "Scatter Plot 3D with Regression Plane"
        }
       }
      },
      "text/html": [
       "<div>                            <div id=\"31677523-8b09-4963-93ea-5be963044ea6\" class=\"plotly-graph-div\" style=\"height:525px; width:100%;\"></div>            <script type=\"text/javascript\">                require([\"plotly\"], function(Plotly) {                    window.PLOTLYENV=window.PLOTLYENV || {};                                    if (document.getElementById(\"31677523-8b09-4963-93ea-5be963044ea6\")) {                    Plotly.newPlot(                        \"31677523-8b09-4963-93ea-5be963044ea6\",                        [{\"marker\":{\"size\":5},\"mode\":\"markers\",\"name\":\"Data Points\",\"x\":[50,40,60,55,45,65,70,75,80,90,89,90,95,93,77,99],\"y\":[20,25,30,35,40,50,55,60,65,70,66,78,80,88,73,70],\"z\":[60,55,65,70,62,75,80,85,90,95,77,87,90,86,79,96],\"type\":\"scatter3d\"},{\"colorscale\":[[0.0,\"#440154\"],[0.1111111111111111,\"#482878\"],[0.2222222222222222,\"#3e4989\"],[0.3333333333333333,\"#31688e\"],[0.4444444444444444,\"#26828e\"],[0.5555555555555556,\"#1f9e89\"],[0.6666666666666666,\"#35b779\"],[0.7777777777777778,\"#6ece58\"],[0.8888888888888888,\"#b5de2b\"],[1.0,\"#fde725\"]],\"name\":\"Regression Plane\",\"opacity\":0.8,\"x\":[[50,40,60,55,45,65,70,75,80,90,89,90,95,93,77,99],[50,40,60,55,45,65,70,75,80,90,89,90,95,93,77,99],[50,40,60,55,45,65,70,75,80,90,89,90,95,93,77,99],[50,40,60,55,45,65,70,75,80,90,89,90,95,93,77,99],[50,40,60,55,45,65,70,75,80,90,89,90,95,93,77,99],[50,40,60,55,45,65,70,75,80,90,89,90,95,93,77,99],[50,40,60,55,45,65,70,75,80,90,89,90,95,93,77,99],[50,40,60,55,45,65,70,75,80,90,89,90,95,93,77,99],[50,40,60,55,45,65,70,75,80,90,89,90,95,93,77,99],[50,40,60,55,45,65,70,75,80,90,89,90,95,93,77,99],[50,40,60,55,45,65,70,75,80,90,89,90,95,93,77,99],[50,40,60,55,45,65,70,75,80,90,89,90,95,93,77,99],[50,40,60,55,45,65,70,75,80,90,89,90,95,93,77,99],[50,40,60,55,45,65,70,75,80,90,89,90,95,93,77,99],[50,40,60,55,45,65,70,75,80,90,89,90,95,93,77,99],[50,40,60,55,45,65,70,75,80,90,89,90,95,93,77,99]],\"y\":[[20,20,20,20,20,20,20,20,20,20,20,20,20,20,20,20],[25,25,25,25,25,25,25,25,25,25,25,25,25,25,25,25],[30,30,30,30,30,30,30,30,30,30,30,30,30,30,30,30],[35,35,35,35,35,35,35,35,35,35,35,35,35,35,35,35],[40,40,40,40,40,40,40,40,40,40,40,40,40,40,40,40],[50,50,50,50,50,50,50,50,50,50,50,50,50,50,50,50],[55,55,55,55,55,55,55,55,55,55,55,55,55,55,55,55],[60,60,60,60,60,60,60,60,60,60,60,60,60,60,60,60],[65,65,65,65,65,65,65,65,65,65,65,65,65,65,65,65],[70,70,70,70,70,70,70,70,70,70,70,70,70,70,70,70],[66,66,66,66,66,66,66,66,66,66,66,66,66,66,66,66],[78,78,78,78,78,78,78,78,78,78,78,78,78,78,78,78],[80,80,80,80,80,80,80,80,80,80,80,80,80,80,80,80],[88,88,88,88,88,88,88,88,88,88,88,88,88,88,88,88],[73,73,73,73,73,73,73,73,73,73,73,73,73,73,73,73],[70,70,70,70,70,70,70,70,70,70,70,70,70,70,70,70]],\"z\":[[62.617086197460395,57.319172890058724,67.91499950486208,65.26604285116123,59.96812954375956,70.56395615856292,73.21291281226375,75.8618694659646,78.51082611966544,83.80873942706711,83.27894809632694,83.80873942706711,86.45769608076795,85.39811341928761,76.92145212744494,88.57686140372861],[63.06592768869587,57.7680143812942,68.36384099609757,65.71488434239672,60.416971034995036,71.01279764979839,73.66175430349924,76.31071095720009,78.95966761090091,84.25758091830258,83.72778958756243,84.25758091830258,86.90653757200343,85.8469549105231,77.37029361868042,89.0257028949641],[63.51476917993135,58.21685587252968,68.81268248733303,66.1637258336322,60.86581252623051,71.46163914103387,74.1105957947347,76.75955244843556,79.40850910213639,84.70642240953806,84.1766310787979,84.70642240953806,87.3553790632389,86.29579640175857,77.81913510991589,89.47454438619957],[63.96361067116683,58.66569736376516,69.26152397856852,66.61256732486767,61.314654017466,71.91048063226935,74.55943728597019,77.20839393967104,79.85735059337188,85.15526390077355,84.62547257003338,85.15526390077355,87.80422055447438,86.74463789299405,78.26797660115137,89.92338587743505],[64.41245216240232,59.11453885500064,69.710365469804,67.06140881610315,61.763495508701475,72.35932212350484,75.00827877720567,77.65723543090652,80.30619208460736,85.60410539200903,85.07431406126886,85.60410539200903,88.25306204570987,87.19347938422953,78.71681809238686,90.37222736867054],[65.31013514487327,60.0122218374716,70.60804845227496,67.95909179857412,62.661178491172436,73.2570051059758,75.90596175967663,78.55491841337748,81.20387506707831,86.50178837447999,85.97199704373982,86.50178837447999,89.15074502818082,88.09116236670049,79.61450107485781,91.26991035114149],[65.75897663610876,60.461063328707084,71.05688994351044,68.40793328980959,63.11001998240792,73.70584659721128,76.35480325091211,79.00375990461296,81.6527165583138,86.95062986571547,86.4208385349753,86.95062986571547,89.5995865194163,88.54000385793597,80.0633425660933,91.71875184237697],[66.20781812734423,60.90990481994256,71.50573143474591,68.85677478104508,63.5588614736434,74.15468808844675,76.80364474214758,79.45260139584843,82.10155804954927,87.39947135695094,86.86968002621077,87.39947135695094,90.04842801065178,88.98884534917144,80.51218405732877,92.16759333361244],[66.65665961857971,61.35874631117804,71.9545729259814,69.30561627228056,64.00770296487887,74.60352957968223,77.25248623338307,79.90144288708392,82.55039954078475,87.84831284818642,87.31852151744626,87.84831284818642,90.49726950188726,89.43768684040693,80.96102554856425,92.61643482484793],[67.1055011098152,61.80758780241352,72.40341441721688,69.75445776351603,64.45654445611436,75.05237107091772,77.70132772461855,80.3502843783194,82.99924103202024,88.29715433942191,87.76736300868174,88.29715433942191,90.94611099312274,89.88652833164241,81.40986703979974,93.06527631608341],[66.7464279168268,61.44851460942513,72.04434122422849,69.39538457052765,64.09747126312597,74.69329787792933,77.34225453163016,79.99121118533101,82.64016783903185,87.93808114643352,87.40828981569335,87.93808114643352,90.58703780013435,89.52745513865402,81.05079384681135,92.70620312309502],[67.82364749579196,62.52573418839029,73.12156080319365,70.47260414949281,65.17469084209112,75.77051745689448,78.41947411059532,81.06843076429617,83.717387417997,89.01530072539867,88.48550939465851,89.01530072539867,91.66425737909951,90.60467471761918,82.1280134257765,93.78342270206018],[68.00318409228615,62.705270784884476,73.30109739968783,70.652140745987,65.35422743858531,75.95005405338867,78.5990107070895,81.24796736079035,83.89692401449119,89.19483732189286,88.6650459911527,89.19483732189286,91.8437939755937,90.78421131411336,82.30755002227069,93.96295929855437],[68.72133047826291,63.42341717086125,74.0192437856646,71.37028713196376,66.07237382456208,76.66820043936544,79.31715709306627,81.96611374676712,84.61507040046796,89.91298370786963,89.38319237712946,89.91298370786963,92.56194036157046,91.50235770009013,83.02569640824746,94.68110568453113],[67.37480600455648,62.076892697154804,72.67271931195816,70.02376265825733,64.72584935085564,75.321675965659,77.97063261935983,80.61958927306068,83.26854592676152,88.56645923416319,88.03666790342302,88.56645923416319,91.21541588786403,90.15583322638369,81.67917193454102,93.3345812108247],[67.1055011098152,61.80758780241352,72.40341441721688,69.75445776351603,64.45654445611436,75.05237107091772,77.70132772461855,80.3502843783194,82.99924103202024,88.29715433942191,87.76736300868174,88.29715433942191,90.94611099312274,89.88652833164241,81.40986703979974,93.06527631608341]],\"type\":\"surface\"}],                        {\"template\":{\"data\":{\"histogram2dcontour\":[{\"type\":\"histogram2dcontour\",\"colorbar\":{\"outlinewidth\":0,\"ticks\":\"\"},\"colorscale\":[[0.0,\"#0d0887\"],[0.1111111111111111,\"#46039f\"],[0.2222222222222222,\"#7201a8\"],[0.3333333333333333,\"#9c179e\"],[0.4444444444444444,\"#bd3786\"],[0.5555555555555556,\"#d8576b\"],[0.6666666666666666,\"#ed7953\"],[0.7777777777777778,\"#fb9f3a\"],[0.8888888888888888,\"#fdca26\"],[1.0,\"#f0f921\"]]}],\"choropleth\":[{\"type\":\"choropleth\",\"colorbar\":{\"outlinewidth\":0,\"ticks\":\"\"}}],\"histogram2d\":[{\"type\":\"histogram2d\",\"colorbar\":{\"outlinewidth\":0,\"ticks\":\"\"},\"colorscale\":[[0.0,\"#0d0887\"],[0.1111111111111111,\"#46039f\"],[0.2222222222222222,\"#7201a8\"],[0.3333333333333333,\"#9c179e\"],[0.4444444444444444,\"#bd3786\"],[0.5555555555555556,\"#d8576b\"],[0.6666666666666666,\"#ed7953\"],[0.7777777777777778,\"#fb9f3a\"],[0.8888888888888888,\"#fdca26\"],[1.0,\"#f0f921\"]]}],\"heatmap\":[{\"type\":\"heatmap\",\"colorbar\":{\"outlinewidth\":0,\"ticks\":\"\"},\"colorscale\":[[0.0,\"#0d0887\"],[0.1111111111111111,\"#46039f\"],[0.2222222222222222,\"#7201a8\"],[0.3333333333333333,\"#9c179e\"],[0.4444444444444444,\"#bd3786\"],[0.5555555555555556,\"#d8576b\"],[0.6666666666666666,\"#ed7953\"],[0.7777777777777778,\"#fb9f3a\"],[0.8888888888888888,\"#fdca26\"],[1.0,\"#f0f921\"]]}],\"heatmapgl\":[{\"type\":\"heatmapgl\",\"colorbar\":{\"outlinewidth\":0,\"ticks\":\"\"},\"colorscale\":[[0.0,\"#0d0887\"],[0.1111111111111111,\"#46039f\"],[0.2222222222222222,\"#7201a8\"],[0.3333333333333333,\"#9c179e\"],[0.4444444444444444,\"#bd3786\"],[0.5555555555555556,\"#d8576b\"],[0.6666666666666666,\"#ed7953\"],[0.7777777777777778,\"#fb9f3a\"],[0.8888888888888888,\"#fdca26\"],[1.0,\"#f0f921\"]]}],\"contourcarpet\":[{\"type\":\"contourcarpet\",\"colorbar\":{\"outlinewidth\":0,\"ticks\":\"\"}}],\"contour\":[{\"type\":\"contour\",\"colorbar\":{\"outlinewidth\":0,\"ticks\":\"\"},\"colorscale\":[[0.0,\"#0d0887\"],[0.1111111111111111,\"#46039f\"],[0.2222222222222222,\"#7201a8\"],[0.3333333333333333,\"#9c179e\"],[0.4444444444444444,\"#bd3786\"],[0.5555555555555556,\"#d8576b\"],[0.6666666666666666,\"#ed7953\"],[0.7777777777777778,\"#fb9f3a\"],[0.8888888888888888,\"#fdca26\"],[1.0,\"#f0f921\"]]}],\"surface\":[{\"type\":\"surface\",\"colorbar\":{\"outlinewidth\":0,\"ticks\":\"\"},\"colorscale\":[[0.0,\"#0d0887\"],[0.1111111111111111,\"#46039f\"],[0.2222222222222222,\"#7201a8\"],[0.3333333333333333,\"#9c179e\"],[0.4444444444444444,\"#bd3786\"],[0.5555555555555556,\"#d8576b\"],[0.6666666666666666,\"#ed7953\"],[0.7777777777777778,\"#fb9f3a\"],[0.8888888888888888,\"#fdca26\"],[1.0,\"#f0f921\"]]}],\"mesh3d\":[{\"type\":\"mesh3d\",\"colorbar\":{\"outlinewidth\":0,\"ticks\":\"\"}}],\"scatter\":[{\"fillpattern\":{\"fillmode\":\"overlay\",\"size\":10,\"solidity\":0.2},\"type\":\"scatter\"}],\"parcoords\":[{\"type\":\"parcoords\",\"line\":{\"colorbar\":{\"outlinewidth\":0,\"ticks\":\"\"}}}],\"scatterpolargl\":[{\"type\":\"scatterpolargl\",\"marker\":{\"colorbar\":{\"outlinewidth\":0,\"ticks\":\"\"}}}],\"bar\":[{\"error_x\":{\"color\":\"#2a3f5f\"},\"error_y\":{\"color\":\"#2a3f5f\"},\"marker\":{\"line\":{\"color\":\"#E5ECF6\",\"width\":0.5},\"pattern\":{\"fillmode\":\"overlay\",\"size\":10,\"solidity\":0.2}},\"type\":\"bar\"}],\"scattergeo\":[{\"type\":\"scattergeo\",\"marker\":{\"colorbar\":{\"outlinewidth\":0,\"ticks\":\"\"}}}],\"scatterpolar\":[{\"type\":\"scatterpolar\",\"marker\":{\"colorbar\":{\"outlinewidth\":0,\"ticks\":\"\"}}}],\"histogram\":[{\"marker\":{\"pattern\":{\"fillmode\":\"overlay\",\"size\":10,\"solidity\":0.2}},\"type\":\"histogram\"}],\"scattergl\":[{\"type\":\"scattergl\",\"marker\":{\"colorbar\":{\"outlinewidth\":0,\"ticks\":\"\"}}}],\"scatter3d\":[{\"type\":\"scatter3d\",\"line\":{\"colorbar\":{\"outlinewidth\":0,\"ticks\":\"\"}},\"marker\":{\"colorbar\":{\"outlinewidth\":0,\"ticks\":\"\"}}}],\"scattermapbox\":[{\"type\":\"scattermapbox\",\"marker\":{\"colorbar\":{\"outlinewidth\":0,\"ticks\":\"\"}}}],\"scatterternary\":[{\"type\":\"scatterternary\",\"marker\":{\"colorbar\":{\"outlinewidth\":0,\"ticks\":\"\"}}}],\"scattercarpet\":[{\"type\":\"scattercarpet\",\"marker\":{\"colorbar\":{\"outlinewidth\":0,\"ticks\":\"\"}}}],\"carpet\":[{\"aaxis\":{\"endlinecolor\":\"#2a3f5f\",\"gridcolor\":\"white\",\"linecolor\":\"white\",\"minorgridcolor\":\"white\",\"startlinecolor\":\"#2a3f5f\"},\"baxis\":{\"endlinecolor\":\"#2a3f5f\",\"gridcolor\":\"white\",\"linecolor\":\"white\",\"minorgridcolor\":\"white\",\"startlinecolor\":\"#2a3f5f\"},\"type\":\"carpet\"}],\"table\":[{\"cells\":{\"fill\":{\"color\":\"#EBF0F8\"},\"line\":{\"color\":\"white\"}},\"header\":{\"fill\":{\"color\":\"#C8D4E3\"},\"line\":{\"color\":\"white\"}},\"type\":\"table\"}],\"barpolar\":[{\"marker\":{\"line\":{\"color\":\"#E5ECF6\",\"width\":0.5},\"pattern\":{\"fillmode\":\"overlay\",\"size\":10,\"solidity\":0.2}},\"type\":\"barpolar\"}],\"pie\":[{\"automargin\":true,\"type\":\"pie\"}]},\"layout\":{\"autotypenumbers\":\"strict\",\"colorway\":[\"#636efa\",\"#EF553B\",\"#00cc96\",\"#ab63fa\",\"#FFA15A\",\"#19d3f3\",\"#FF6692\",\"#B6E880\",\"#FF97FF\",\"#FECB52\"],\"font\":{\"color\":\"#2a3f5f\"},\"hovermode\":\"closest\",\"hoverlabel\":{\"align\":\"left\"},\"paper_bgcolor\":\"white\",\"plot_bgcolor\":\"#E5ECF6\",\"polar\":{\"bgcolor\":\"#E5ECF6\",\"angularaxis\":{\"gridcolor\":\"white\",\"linecolor\":\"white\",\"ticks\":\"\"},\"radialaxis\":{\"gridcolor\":\"white\",\"linecolor\":\"white\",\"ticks\":\"\"}},\"ternary\":{\"bgcolor\":\"#E5ECF6\",\"aaxis\":{\"gridcolor\":\"white\",\"linecolor\":\"white\",\"ticks\":\"\"},\"baxis\":{\"gridcolor\":\"white\",\"linecolor\":\"white\",\"ticks\":\"\"},\"caxis\":{\"gridcolor\":\"white\",\"linecolor\":\"white\",\"ticks\":\"\"}},\"coloraxis\":{\"colorbar\":{\"outlinewidth\":0,\"ticks\":\"\"}},\"colorscale\":{\"sequential\":[[0.0,\"#0d0887\"],[0.1111111111111111,\"#46039f\"],[0.2222222222222222,\"#7201a8\"],[0.3333333333333333,\"#9c179e\"],[0.4444444444444444,\"#bd3786\"],[0.5555555555555556,\"#d8576b\"],[0.6666666666666666,\"#ed7953\"],[0.7777777777777778,\"#fb9f3a\"],[0.8888888888888888,\"#fdca26\"],[1.0,\"#f0f921\"]],\"sequentialminus\":[[0.0,\"#0d0887\"],[0.1111111111111111,\"#46039f\"],[0.2222222222222222,\"#7201a8\"],[0.3333333333333333,\"#9c179e\"],[0.4444444444444444,\"#bd3786\"],[0.5555555555555556,\"#d8576b\"],[0.6666666666666666,\"#ed7953\"],[0.7777777777777778,\"#fb9f3a\"],[0.8888888888888888,\"#fdca26\"],[1.0,\"#f0f921\"]],\"diverging\":[[0,\"#8e0152\"],[0.1,\"#c51b7d\"],[0.2,\"#de77ae\"],[0.3,\"#f1b6da\"],[0.4,\"#fde0ef\"],[0.5,\"#f7f7f7\"],[0.6,\"#e6f5d0\"],[0.7,\"#b8e186\"],[0.8,\"#7fbc41\"],[0.9,\"#4d9221\"],[1,\"#276419\"]]},\"xaxis\":{\"gridcolor\":\"white\",\"linecolor\":\"white\",\"ticks\":\"\",\"title\":{\"standoff\":15},\"zerolinecolor\":\"white\",\"automargin\":true,\"zerolinewidth\":2},\"yaxis\":{\"gridcolor\":\"white\",\"linecolor\":\"white\",\"ticks\":\"\",\"title\":{\"standoff\":15},\"zerolinecolor\":\"white\",\"automargin\":true,\"zerolinewidth\":2},\"scene\":{\"xaxis\":{\"backgroundcolor\":\"#E5ECF6\",\"gridcolor\":\"white\",\"linecolor\":\"white\",\"showbackground\":true,\"ticks\":\"\",\"zerolinecolor\":\"white\",\"gridwidth\":2},\"yaxis\":{\"backgroundcolor\":\"#E5ECF6\",\"gridcolor\":\"white\",\"linecolor\":\"white\",\"showbackground\":true,\"ticks\":\"\",\"zerolinecolor\":\"white\",\"gridwidth\":2},\"zaxis\":{\"backgroundcolor\":\"#E5ECF6\",\"gridcolor\":\"white\",\"linecolor\":\"white\",\"showbackground\":true,\"ticks\":\"\",\"zerolinecolor\":\"white\",\"gridwidth\":2}},\"shapedefaults\":{\"line\":{\"color\":\"#2a3f5f\"}},\"annotationdefaults\":{\"arrowcolor\":\"#2a3f5f\",\"arrowhead\":0,\"arrowwidth\":1},\"geo\":{\"bgcolor\":\"white\",\"landcolor\":\"#E5ECF6\",\"subunitcolor\":\"white\",\"showland\":true,\"showlakes\":true,\"lakecolor\":\"white\"},\"title\":{\"x\":0.05},\"mapbox\":{\"style\":\"light\"}}},\"scene\":{\"xaxis\":{\"title\":{\"text\":\"X1\"}},\"yaxis\":{\"title\":{\"text\":\"X2\"}},\"zaxis\":{\"title\":{\"text\":\"Y\"}}},\"title\":{\"text\":\"Scatter Plot 3D with Regression Plane\"}},                        {\"responsive\": true}                    ).then(function(){\n",
       "                            \n",
       "var gd = document.getElementById('31677523-8b09-4963-93ea-5be963044ea6');\n",
       "var x = new MutationObserver(function (mutations, observer) {{\n",
       "        var display = window.getComputedStyle(gd).display;\n",
       "        if (!display || display === 'none') {{\n",
       "            console.log([gd, 'removed!']);\n",
       "            Plotly.purge(gd);\n",
       "            observer.disconnect();\n",
       "        }}\n",
       "}});\n",
       "\n",
       "// Listen for the removal of the full notebook cells\n",
       "var notebookContainer = gd.closest('#notebook-container');\n",
       "if (notebookContainer) {{\n",
       "    x.observe(notebookContainer, {childList: true});\n",
       "}}\n",
       "\n",
       "// Listen for the clearing of the current output cell\n",
       "var outputEl = gd.closest('.output');\n",
       "if (outputEl) {{\n",
       "    x.observe(outputEl, {childList: true});\n",
       "}}\n",
       "\n",
       "                        })                };                });            </script>        </div>"
      ]
     },
     "metadata": {},
     "output_type": "display_data"
    },
    {
     "name": "stdout",
     "output_type": "stream",
     "text": [
      "Tidak terdapat bukti heteroskedastisitas.\n"
     ]
    },
    {
     "data": {
      "text/plain": [
       "<Figure size 640x480 with 0 Axes>"
      ]
     },
     "metadata": {},
     "output_type": "display_data"
    }
   ],
   "source": [
    "# Data asrul dan fitting model\n",
    "data_asrul = sm.add_constant(data_asrul)  # Tambahkan kolom konstanta\n",
    "X = data_asrul[['const', 'X1', 'X2']]  # Variabel independen\n",
    "y = data_asrul['Y']  # Variabel dependen\n",
    "model = sm.OLS(y, X).fit()  # Membuat model regresi OLS\n",
    "\n",
    "fig = go.Figure(data=[\n",
    "    go.Scatter3d(x=data_asrul['X1'], y=data_asrul['X2'], z=data_asrul['Y'], mode='markers',\n",
    "                 marker=dict(size=5), name='Data Points')])\n",
    "\n",
    "# Regresi berganda sebagai bidang\n",
    "xx, yy = np.meshgrid(data_asrul['X1'], data_asrul['X2'])\n",
    "zz = model.params['const'] + model.params['X1'] * xx + model.params['X2'] * yy\n",
    "fig.add_trace(go.Surface(x=xx, y=yy, z=zz, opacity=0.8, colorscale='Viridis', name='Regression Plane'))\n",
    "\n",
    "fig.update_layout(scene=dict(xaxis_title='X1', yaxis_title='X2', zaxis_title='Y'),\n",
    "                  title='Scatter Plot 3D with Regression Plane')\n",
    "plt.savefig('Scatter Plot 3D with Regression Plane')\n",
    "fig.show()\n",
    "\n",
    "_, p_value, _, _ = het_breuschpagan(model.resid, X)\n",
    "if p_value < 0.05:\n",
    "    print(\"Terdapat bukti heteroskedastisitas.\")\n",
    "else:\n",
    "    print(\"Tidak terdapat bukti heteroskedastisitas.\")\n"
   ]
  },
  {
   "cell_type": "markdown",
   "id": "048145e9",
   "metadata": {},
   "source": [
    "#### Uji Autokorelasi With Plot ACF"
   ]
  },
  {
   "cell_type": "code",
   "execution_count": 51,
   "id": "317ba2d7",
   "metadata": {},
   "outputs": [
    {
     "data": {
      "image/png": "[encoded data removed]",
      "text/plain": [
       "<Figure size 640x480 with 1 Axes>"
      ]
     },
     "metadata": {},
     "output_type": "display_data"
    }
   ],
   "source": [
    "fig, ax = plt.subplots()\n",
    "plot_acf(data_asrul['Y'], ax=ax, color='r')\n",
    "ax.set_xlabel('Lag')\n",
    "ax.set_ylabel('Autocorrelation')\n",
    "plt.title('Visualisasi ACF Plot')\n",
    "\n",
    "plt.savefig('Visualisasi ACF Plot')\n",
    "plt.show()"
   ]
  },
  {
   "cell_type": "markdown",
   "id": "1a40ce4b",
   "metadata": {},
   "source": [
    "#### Uji Heteroskedastisitas"
   ]
  },
  {
   "cell_type": "code",
   "execution_count": 61,
   "id": "1783c8aa",
   "metadata": {},
   "outputs": [
    {
     "name": "stdout",
     "output_type": "stream",
     "text": [
      "(3.899486025988436, 0.5639765013406288, 0.6445157675720908, 0.6720530767706143)\n"
     ]
    }
   ],
   "source": [
    "X = data_asrul[['X1','X2']]\n",
    "y = data_asrul['Y']\n",
    "\n",
    "X = sm.add_constant(X)\n",
    "model = sm.OLS(y, X)\n",
    "result = model.fit()\n",
    "result_het_white_test = het_white(result.resid, X)\n",
    "print(result_het_white_test)"
   ]
  },
  {
   "cell_type": "markdown",
   "id": "288e0c2c",
   "metadata": {},
   "source": [
    "#### Uji Multikolinieritas"
   ]
  },
  {
   "cell_type": "code",
   "execution_count": 63,
   "id": "9ebabc32",
   "metadata": {},
   "outputs": [
    {
     "name": "stdout",
     "output_type": "stream",
     "text": [
      "             VIF\n",
      "const  75.595265\n",
      "X1     10.724244\n",
      "X2      6.522216\n",
      "Y       7.003617\n"
     ]
    }
   ],
   "source": [
    "Vrince_inflation_factor = pd.DataFrame()\n",
    "Vrince_inflation_factor['VIF'] = [variance_inflation_factor(data_asrul.values, i) for i in range(data_asrul.shape[1])]\n",
    "Vrince_inflation_factor.set_index(data_asrul.columns, inplace=True)\n",
    "\n",
    "print(Vrince_inflation_factor)"
   ]
  },
  {
   "cell_type": "code",
   "execution_count": null,
   "id": "ff68bc68",
   "metadata": {},
   "outputs": [],
   "source": []
  }
 ],
 "metadata": {
  "kernelspec": {
   "display_name": "Python 3 (ipykernel)",
   "language": "python",
   "name": "python3"
  },
  "language_info": {
   "codemirror_mode": {
    "name": "ipython",
    "version": 3
   },
   "file_extension": ".py",
   "mimetype": "text/x-python",
   "name": "python",
   "nbconvert_exporter": "python",
   "pygments_lexer": "ipython3",
   "version": "3.9.13"
  }
 },
 "nbformat": 4,
 "nbformat_minor": 5
}
